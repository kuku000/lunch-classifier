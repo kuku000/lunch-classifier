{
 "cells": [
  {
   "cell_type": "code",
   "execution_count": 3,
   "id": "8482ab49-d1e0-471d-8985-2d8cb8d9c735",
   "metadata": {
    "tags": []
   },
   "outputs": [],
   "source": [
    "import os\n",
    "\n",
    "chinese_folder_names = [\n",
    "    \"白米飯\", \"香蕉\", \"油菜\", \"青江菜\", \"高麗菜\", \"螞蟻上樹\", \"麻婆豆腐\", \"有機小松菜\", \"三杯雞\", \"菠菜\",\n",
    "    \"有機青松菜\", \"鵝白菜\", \"洋蔥炒蛋\", \"葡萄\", \"紅蘿蔔炒蛋\", \"番茄炒蛋\", \"玉米炒蛋\", \"棗子\", \"小番茄\",\n",
    "    \"橘子\", \"客家小炒\", \"白菜滷\", \"咖哩雞\", \"柳丁\", \"關東煮\", \"蓮霧\", \"空心菜\", \"大陸妹\", \"蒜泥白肉\",\n",
    "    \"滷蛋\", \"福山萵苣\", \"滷雞腿\", \"鳳梨\", \"木瓜\", \"西瓜\", \"芥藍菜\", \"蒸蛋\", \"麥克雞塊\", \"豆芽菜\",\n",
    "    \"馬鈴薯燉肉\", \"沙茶肉片\", \"塔香海茸\", \"麻油雞\", \"鹽酥雞\", \"義大利麵\", \"糖醋雞丁\", \"什錦炒麵\", \"黑胡椒豬柳\",\n",
    "    \"瓜仔肉\", \"香酥魚排\"\n",
    "]\n",
    "\n",
    "\n",
    "english_folder_names = [\n",
    "    \"rice\", \"banana\", \"rapeseed\", \"qingjiangcai\", \"gailan\", \"mazuantsu\", \"mapodoufu\", \"organicxiaomucai\", \"sanbeiji\", \"spinach\",\n",
    "    \"organicqingsongcai\", \"ebaicai\", \"onionscrambledegg\", \"grape\", \"carrotscrambledegg\", \"tomatoscrambledegg\", \"cornscrambledegg\", \"date\", \"cherrytomato\",\n",
    "    \"orange\", \"hakka stir-fry\", \"cabbagebraised\", \"currychicken\", \"liuding\", \"kanto stew\", \"waxapple\", \"kongxincai\", \"dalu mei\", \"garlicwhitemeat\",\n",
    "    \"braisedegg\", \"fushan lettuce\", \"braisedchickenleg\", \"pineapple\", \"papaya\", \"watermelon\", \"kale\", \"steamedegg\", \"mcdonaldsnuggets\", \"bean sprouts\",\n",
    "    \"potatostewedmeat\", \"sataymeat\", \"tahitianseafood\", \"sesameoilchicken\", \"saltpepperchicken\", \"spaghetti\", \"sweetandsoursmallsquares\", \"mixedfriednoodles\", \"blackpepperporkloin\",\n",
    "    \"guaizairou\", \"crispyfishfillet\"\n",
    "]"
   ]
  },
  {
   "cell_type": "code",
   "execution_count": 7,
   "id": "8a35cdcf-ecce-4707-b59a-ec65400c7d38",
   "metadata": {
    "tags": []
   },
   "outputs": [],
   "source": [
    "label_mapping = dict(zip(chinese_folder_names, english_folder_names))\n",
    "# Your absolute paths\n",
    "base_path = r\"C:\\Users\\user\\downloads\\new_data\"\n",
    "original_folder_path = os.path.join(base_path, \"new_data\")\n",
    "new_folder_path = os.path.join(base_path, \"new_data_e\")\n",
    "\n",
    "# Creating folders if they don't exist\n",
    "os.makedirs(new_folder_path, exist_ok=True)\n",
    "\n",
    "for chinese_folder in chinese_folder_names:\n",
    "    old_path = os.path.join(original_folder_path, chinese_folder)\n",
    "    new_path = os.path.join(new_folder_path, label_mapping[chinese_folder])\n",
    "    os.rename(old_path, new_path)\n",
    "    os.makedirs(new_path, exist_ok=True)"
   ]
  },
  {
   "cell_type": "code",
   "execution_count": null,
   "id": "3dd73ce0-d454-431f-84ce-c9c3aaca6423",
   "metadata": {},
   "outputs": [],
   "source": []
  },
  {
   "cell_type": "code",
   "execution_count": null,
   "id": "3d2290db",
   "metadata": {},
   "outputs": [],
   "source": []
  }
 ],
 "metadata": {
  "kernelspec": {
   "display_name": "Python 3 (ipykernel)",
   "language": "python",
   "name": "python3"
  },
  "language_info": {
   "codemirror_mode": {
    "name": "ipython",
    "version": 3
   },
   "file_extension": ".py",
   "mimetype": "text/x-python",
   "name": "python",
   "nbconvert_exporter": "python",
   "pygments_lexer": "ipython3",
   "version": "3.11.4"
  }
 },
 "nbformat": 4,
 "nbformat_minor": 5
}
